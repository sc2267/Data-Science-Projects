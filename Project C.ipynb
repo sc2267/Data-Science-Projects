{
 "cells": [
  {
   "cell_type": "code",
   "execution_count": 1,
   "metadata": {
    "collapsed": true
   },
   "outputs": [],
   "source": [
    "import pandas as pd\n",
    "import numpy as np\n",
    "import math\n",
    "\n"
   ]
  },
  {
   "cell_type": "code",
   "execution_count": 21,
   "metadata": {
    "collapsed": true
   },
   "outputs": [],
   "source": [
    "data = pd.read_csv('df2.csv')\n",
    "logisticdata= data['OverallQual']\n",
    "SVMdata= data['HouseTypeIdx']\n"
   ]
  },
  {
   "cell_type": "code",
   "execution_count": 3,
   "metadata": {
    "collapsed": true
   },
   "outputs": [],
   "source": [
    "# Logistic Regression"
   ]
  },
  {
   "cell_type": "code",
   "execution_count": 4,
   "metadata": {
    "collapsed": true
   },
   "outputs": [],
   "source": [
    "from sklearn.metrics import accuracy_score\n",
    "from sklearn.model_selection import train_test_split\n",
    "from sklearn.preprocessing import LabelEncoder\n",
    "from sklearn.linear_model import LogisticRegression"
   ]
  },
  {
   "cell_type": "code",
   "execution_count": 5,
   "metadata": {
    "collapsed": true
   },
   "outputs": [],
   "source": [
    "y = logisticdata\n",
    "X = pd.read_csv('df2.csv', usecols=['YearRemodAdd','SalePrice'])"
   ]
  },
  {
   "cell_type": "code",
   "execution_count": 6,
   "metadata": {
    "collapsed": true
   },
   "outputs": [],
   "source": [
    "# split 1"
   ]
  },
  {
   "cell_type": "code",
   "execution_count": 16,
   "metadata": {},
   "outputs": [
    {
     "name": "stdout",
     "output_type": "stream",
     "text": [
      "baseline: 0.6027397260273972\n",
      "accuracy: 0.36363636363636365\n"
     ]
    }
   ],
   "source": [
    "X_train, X_test, y_train, y_test = train_test_split(X, y, test_size=0.2, random_state= 8)\n",
    "logit = LogisticRegression()\n",
    "logit.fit(X_train, y_train)\n",
    "predict = logit.predict(X_test)\n",
    "\n",
    "actual = np.zeros(len(X_test))\n",
    "prediction = np.zeros(len(X_test))\n",
    "\n",
    "zeroes = 0\n",
    "ones = 0\n",
    "\n",
    "y_test.index=range(len(X_test))\n",
    "\n",
    "for x in range(len(X_test)):\n",
    "    if(y_test[x]< 6):\n",
    "        actual[x] = 0\n",
    "        zeroes += 1\n",
    "    elif(y_test[x] >=6):\n",
    "        actual[x] = 1\n",
    "        ones += 1\n",
    "        \n",
    "baseline = 0\n",
    "\n",
    "if(ones >= zeroes):\n",
    "    baseline = ones/(ones+zeroes)\n",
    "else:\n",
    "    baseline = zeroes/(ones+zeroes)\n",
    "    \n",
    "for x in range(len(X_test)):\n",
    "    if(predict[x]< 6):\n",
    "        prediction[x] = 0\n",
    "\n",
    "    elif(predict[x] >= 6):\n",
    "        prediction[x] = 1\n",
    "\n",
    "        \n",
    "predictioncount = 0\n",
    "for x in range(len(X_test)):\n",
    "    if(prediction[x]==actual[x]):\n",
    "        predictioncount += 1\n",
    "        \n",
    "predictionvalue= predictioncount/(ones+zeroes)\n",
    "accuracy = (predictionvalue- baseline)/baseline\n",
    "\n",
    "print(\"baseline: \" + str(baseline))\n",
    "print(\"accuracy: \" + str(accuracy))\n",
    "\n",
    "\n"
   ]
  },
  {
   "cell_type": "code",
   "execution_count": 8,
   "metadata": {
    "collapsed": true
   },
   "outputs": [],
   "source": [
    "# split 2"
   ]
  },
  {
   "cell_type": "code",
   "execution_count": 9,
   "metadata": {},
   "outputs": [
    {
     "name": "stdout",
     "output_type": "stream",
     "text": [
      "baseline: 0.6267123287671232\n",
      "accuracy: 0.24043715846994546\n"
     ]
    }
   ],
   "source": [
    "X_train, X_test, y_train, y_test = train_test_split(X, y, test_size=0.2, random_state= 56)\n",
    "logit = LogisticRegression()\n",
    "logit.fit(X_train, y_train)\n",
    "predict = logit.predict(X_test)\n",
    "\n",
    "actual = np.zeros(len(X_test))\n",
    "prediction = np.zeros(len(X_test))\n",
    "\n",
    "zeroes = 0\n",
    "ones = 0\n",
    "\n",
    "y_test.index=range(len(X_test))\n",
    "\n",
    "for x in range(len(X_test)):\n",
    "    if(y_test[x]< 6):\n",
    "        actual[x] = 0\n",
    "        zeroes += 1\n",
    "    elif(y_test[x] >=6):\n",
    "        actual[x] = 1\n",
    "        ones += 1\n",
    "        \n",
    "baseline = 0\n",
    "\n",
    "if(ones >= zeroes):\n",
    "    baseline = ones/(ones+zeroes)\n",
    "else:\n",
    "    baseline = zeroes/(ones+zeroes)\n",
    "    \n",
    "for x in range(len(X_test)):\n",
    "    if(predict[x]< 6):\n",
    "        prediction[x] = 0\n",
    "\n",
    "    elif(predict[x] >= 6):\n",
    "        prediction[x] = 1\n",
    "\n",
    "        \n",
    "predictioncount = 0\n",
    "for x in range(len(X_test)):\n",
    "    if(prediction[x]==actual[x]):\n",
    "        predictioncount += 1\n",
    "        \n",
    "predictionvalue= predictioncount/(ones+zeroes)\n",
    "accuracy = (predictionvalue- baseline)/baseline\n",
    "\n",
    "print(\"baseline: \" + str(baseline))\n",
    "print(\"accuracy: \" + str(accuracy))\n",
    "\n"
   ]
  },
  {
   "cell_type": "code",
   "execution_count": 10,
   "metadata": {
    "collapsed": true
   },
   "outputs": [],
   "source": [
    "# split 3"
   ]
  },
  {
   "cell_type": "code",
   "execution_count": 11,
   "metadata": {},
   "outputs": [
    {
     "name": "stdout",
     "output_type": "stream",
     "text": [
      "baseline: 0.5856164383561644\n",
      "accuracy: 0.38011695906432746\n"
     ]
    }
   ],
   "source": [
    "X_train, X_test, y_train, y_test = train_test_split(X, y, test_size=0.2, random_state= 98)\n",
    "logit = LogisticRegression()\n",
    "logit.fit(X_train, y_train)\n",
    "predict = logit.predict(X_test)\n",
    "\n",
    "actual = np.zeros(len(X_test))\n",
    "prediction = np.zeros(len(X_test))\n",
    "\n",
    "zeroes = 0\n",
    "ones = 0\n",
    "\n",
    "y_test.index=range(len(X_test))\n",
    "\n",
    "for x in range(len(X_test)):\n",
    "    if(y_test[x]< 6):\n",
    "        actual[x] = 0\n",
    "        zeroes += 1\n",
    "    elif(y_test[x] >=6):\n",
    "        actual[x] = 1\n",
    "        ones += 1\n",
    "        \n",
    "baseline = 0\n",
    "\n",
    "if(ones >= zeroes):\n",
    "    baseline = ones/(ones+zeroes)\n",
    "else:\n",
    "    baseline = zeroes/(ones+zeroes)\n",
    "    \n",
    "for x in range(len(X_test)):\n",
    "    if(predict[x]< 6):\n",
    "        prediction[x] = 0\n",
    "\n",
    "    elif(predict[x] >= 6):\n",
    "        prediction[x] = 1\n",
    "\n",
    "        \n",
    "predictioncount = 0\n",
    "for x in range(len(X_test)):\n",
    "    if(prediction[x]==actual[x]):\n",
    "        predictioncount += 1\n",
    "        \n",
    "predictionvalue= predictioncount/(ones+zeroes)\n",
    "accuracy = (predictionvalue- baseline)/baseline\n",
    "\n",
    "print(\"baseline: \" + str(baseline))\n",
    "print(\"accuracy: \" + str(accuracy))\n",
    "\n"
   ]
  },
  {
   "cell_type": "code",
   "execution_count": 12,
   "metadata": {
    "collapsed": true
   },
   "outputs": [],
   "source": [
    "# split 4"
   ]
  },
  {
   "cell_type": "code",
   "execution_count": 13,
   "metadata": {},
   "outputs": [
    {
     "name": "stdout",
     "output_type": "stream",
     "text": [
      "baseline: 0.5958904109589042\n",
      "accuracy: 0.4137931034482758\n"
     ]
    }
   ],
   "source": [
    "X_train, X_test, y_train, y_test = train_test_split(X, y, test_size=0.2, random_state= 116)\n",
    "logit = LogisticRegression()\n",
    "logit.fit(X_train, y_train)\n",
    "predict = logit.predict(X_test)\n",
    "\n",
    "actual = np.zeros(len(X_test))\n",
    "prediction = np.zeros(len(X_test))\n",
    "\n",
    "zeroes = 0\n",
    "ones = 0\n",
    "\n",
    "y_test.index=range(len(X_test))\n",
    "\n",
    "for x in range(len(X_test)):\n",
    "    if(y_test[x]< 6):\n",
    "        actual[x] = 0\n",
    "        zeroes += 1\n",
    "    elif(y_test[x] >=6):\n",
    "        actual[x] = 1\n",
    "        ones += 1\n",
    "        \n",
    "baseline = 0\n",
    "\n",
    "if(ones >= zeroes):\n",
    "    baseline = ones/(ones+zeroes)\n",
    "else:\n",
    "    baseline = zeroes/(ones+zeroes)\n",
    "    \n",
    "for x in range(len(X_test)):\n",
    "    if(predict[x]< 6):\n",
    "        prediction[x] = 0\n",
    "\n",
    "    elif(predict[x] >= 6):\n",
    "        prediction[x] = 1\n",
    "\n",
    "        \n",
    "predictioncount = 0\n",
    "for x in range(len(X_test)):\n",
    "    if(prediction[x]==actual[x]):\n",
    "        predictioncount += 1\n",
    "        \n",
    "predictionvalue= predictioncount/(ones+zeroes)\n",
    "accuracy = (predictionvalue- baseline)/baseline\n",
    "\n",
    "print(\"baseline: \" + str(baseline))\n",
    "print(\"accuracy: \" + str(accuracy))\n",
    "\n"
   ]
  },
  {
   "cell_type": "code",
   "execution_count": 14,
   "metadata": {
    "collapsed": true
   },
   "outputs": [],
   "source": [
    "# split 5"
   ]
  },
  {
   "cell_type": "code",
   "execution_count": 15,
   "metadata": {},
   "outputs": [
    {
     "name": "stdout",
     "output_type": "stream",
     "text": [
      "baseline: 0.6061643835616438\n",
      "accuracy: 0.3107344632768361\n"
     ]
    }
   ],
   "source": [
    "X_train, X_test, y_train, y_test = train_test_split(X, y, test_size=0.2, random_state= 118)\n",
    "logit = LogisticRegression()\n",
    "logit.fit(X_train, y_train)\n",
    "predict = logit.predict(X_test)\n",
    "\n",
    "actual = np.zeros(len(X_test))\n",
    "prediction = np.zeros(len(X_test))\n",
    "\n",
    "zeroes = 0\n",
    "ones = 0\n",
    "\n",
    "y_test.index=range(len(X_test))\n",
    "\n",
    "for x in range(len(X_test)):\n",
    "    if(y_test[x]< 6):\n",
    "        actual[x] = 0\n",
    "        zeroes += 1\n",
    "    elif(y_test[x] >=6):\n",
    "        actual[x] = 1\n",
    "        ones += 1\n",
    "        \n",
    "baseline = 0\n",
    "\n",
    "if(ones >= zeroes):\n",
    "    baseline = ones/(ones+zeroes)\n",
    "else:\n",
    "    baseline = zeroes/(ones+zeroes)\n",
    "    \n",
    "for x in range(len(X_test)):\n",
    "    if(predict[x]< 6):\n",
    "        prediction[x] = 0\n",
    "\n",
    "    elif(predict[x] >= 6):\n",
    "        prediction[x] = 1\n",
    "\n",
    "        \n",
    "predictioncount = 0\n",
    "for x in range(len(X_test)):\n",
    "    if(prediction[x]==actual[x]):\n",
    "        predictioncount += 1\n",
    "        \n",
    "predictionvalue= predictioncount/(ones+zeroes)\n",
    "accuracy = (predictionvalue- baseline)/baseline\n",
    "\n",
    "print(\"baseline: \" + str(baseline))\n",
    "print(\"accuracy: \" + str(accuracy))\n",
    "\n"
   ]
  },
  {
   "cell_type": "code",
   "execution_count": 318,
   "metadata": {
    "collapsed": true
   },
   "outputs": [],
   "source": [
    "# SVM"
   ]
  },
  {
   "cell_type": "code",
   "execution_count": 366,
   "metadata": {
    "collapsed": true
   },
   "outputs": [],
   "source": [
    "import numpy as np\n",
    "import matplotlib.pyplot as plt\n",
    "from sklearn.model_selection import train_test_split\n",
    "from sklearn import svm, datasets"
   ]
  },
  {
   "cell_type": "code",
   "execution_count": 368,
   "metadata": {
    "collapsed": true
   },
   "outputs": [],
   "source": [
    "y= SVMdata\n",
    "X = pd.read_csv('df2.csv', usecols=['2ndFlrSF','BedroomAbvGr','TotRmsAbvGrd','LowQualFinSF'])"
   ]
  },
  {
   "cell_type": "code",
   "execution_count": null,
   "metadata": {
    "collapsed": true
   },
   "outputs": [],
   "source": [
    "# split 1"
   ]
  },
  {
   "cell_type": "code",
   "execution_count": 369,
   "metadata": {},
   "outputs": [
    {
     "name": "stdout",
     "output_type": "stream",
     "text": [
      "baseline: 0.4417808219178082\n",
      "accuracy: 0.8992248062015504\n"
     ]
    }
   ],
   "source": [
    "model = svm.SVC(kernel='linear', C=1,gamma=1)\n",
    "\n",
    "X_train, X_test, Y_train, y_test = train_test_split(X, y, test_size=0.2, random_state= 10)\n",
    "model.fit(X_train, Y_train)\n",
    "\n",
    "predict= model.predict(X_test)\n",
    "\n",
    "actual = np.zeros(len(X_test))\n",
    "prediction = np.zeros(len(X_test))\n",
    "\n",
    "one=0\n",
    "two=0\n",
    "three=0\n",
    "four=0\n",
    "five=0\n",
    "six=0\n",
    "seven=0\n",
    "eight=0\n",
    "\n",
    "y_test.index=range(len(X_test))\n",
    "\n",
    "for x in range(len(X_test)):\n",
    "    if(y_test[x]== 1):\n",
    "        actual[x] = 1\n",
    "        one += 1\n",
    "    elif(y_test[x]== 2):\n",
    "        actual[x] = 2\n",
    "        two += 1\n",
    "    elif(y_test[x]== 3):\n",
    "        actual[x] = 3\n",
    "        three += 1\n",
    "    elif(y_test[x]== 4):\n",
    "        actual[x] = 4\n",
    "        four += 1\n",
    "    elif(y_test[x]== 5):\n",
    "        actual[x] = 5\n",
    "        five += 1\n",
    "    elif(y_test[x]== 6):\n",
    "        actual[x] = 6\n",
    "        six += 1\n",
    "    elif(y_test[x]== 7):\n",
    "        actual[x] = 7\n",
    "        seven += 1\n",
    "    elif(y_test[x]== 8):\n",
    "        actual[x] = 8\n",
    "        eight += 1\n",
    "        \n",
    "baseline = 0\n",
    "maximum=one\n",
    "indicies=[one,two,three,four,five,six,seven,eight]\n",
    "for c in range(len(indicies)):\n",
    "    if (indicies[c] >= maximum):\n",
    "        maximum=indicies[c]\n",
    "        \n",
    "baseline=maximum/sum(indicies)\n",
    "        \n",
    "for x in range(len(X_test)):\n",
    "    if(predict[x]== 1):\n",
    "        prediction[x] = 1\n",
    "    elif(predict[x]== 2):\n",
    "        prediction[x] = 2\n",
    "    elif(predict[x]== 3):\n",
    "        prediction[x] = 3\n",
    "    elif(predict[x]== 4):\n",
    "        prediction[x] = 4\n",
    "    elif(predict[x]== 5):\n",
    "        prediction[x] = 5\n",
    "    elif(predict[x]== 6):\n",
    "        prediction[x] = 6\n",
    "    elif(predict[x]== 7):\n",
    "        prediction[x] = 7\n",
    "    elif(predict[x]== 8):\n",
    "        prediction[x] = 8\n",
    "        \n",
    "predictioncount = 0\n",
    "for x in range(len(X_test)):\n",
    "    if(prediction[x]==actual[x]):\n",
    "        predictioncount += 1\n",
    "        \n",
    "predictionvalue= predictioncount/sum(indicies)\n",
    "accuracy = (predictionvalue-baseline)/baseline\n",
    "\n",
    "print(\"baseline: \" + str(baseline))\n",
    "print(\"accuracy: \" + str(accuracy))"
   ]
  },
  {
   "cell_type": "code",
   "execution_count": null,
   "metadata": {
    "collapsed": true
   },
   "outputs": [],
   "source": [
    "# split 2"
   ]
  },
  {
   "cell_type": "code",
   "execution_count": 371,
   "metadata": {},
   "outputs": [
    {
     "name": "stdout",
     "output_type": "stream",
     "text": [
      "baseline: 0.4863013698630137\n",
      "accuracy: 0.7676056338028169\n"
     ]
    }
   ],
   "source": [
    "model = svm.SVC(kernel='linear', C=1,gamma=1)\n",
    "\n",
    "X_train, X_test, Y_train, y_test = train_test_split(X, y, test_size=0.2, random_state= 1)\n",
    "model.fit(X_train, Y_train)\n",
    "\n",
    "predict= model.predict(X_test)\n",
    "\n",
    "actual = np.zeros(len(X_test))\n",
    "prediction = np.zeros(len(X_test))\n",
    "\n",
    "one=0\n",
    "two=0\n",
    "three=0\n",
    "four=0\n",
    "five=0\n",
    "six=0\n",
    "seven=0\n",
    "eight=0\n",
    "\n",
    "y_test.index=range(len(X_test))\n",
    "\n",
    "for x in range(len(X_test)):\n",
    "    if(y_test[x]== 1):\n",
    "        actual[x] = 1\n",
    "        one += 1\n",
    "    elif(y_test[x]== 2):\n",
    "        actual[x] = 2\n",
    "        two += 1\n",
    "    elif(y_test[x]== 3):\n",
    "        actual[x] = 3\n",
    "        three += 1\n",
    "    elif(y_test[x]== 4):\n",
    "        actual[x] = 4\n",
    "        four += 1\n",
    "    elif(y_test[x]== 5):\n",
    "        actual[x] = 5\n",
    "        five += 1\n",
    "    elif(y_test[x]== 6):\n",
    "        actual[x] = 6\n",
    "        six += 1\n",
    "    elif(y_test[x]== 7):\n",
    "        actual[x] = 7\n",
    "        seven += 1\n",
    "    elif(y_test[x]== 8):\n",
    "        actual[x] = 8\n",
    "        eight += 1\n",
    "        \n",
    "baseline = 0\n",
    "maximum=one\n",
    "indicies=[one,two,three,four,five,six,seven,eight]\n",
    "for c in range(len(indicies)):\n",
    "    if (indicies[c] >= maximum):\n",
    "        maximum=indicies[c]\n",
    "        \n",
    "baseline=maximum/sum(indicies)\n",
    "        \n",
    "for x in range(len(X_test)):\n",
    "    if(predict[x]== 1):\n",
    "        prediction[x] = 1\n",
    "    elif(predict[x]== 2):\n",
    "        prediction[x] = 2\n",
    "    elif(predict[x]== 3):\n",
    "        prediction[x] = 3\n",
    "    elif(predict[x]== 4):\n",
    "        prediction[x] = 4\n",
    "    elif(predict[x]== 5):\n",
    "        prediction[x] = 5\n",
    "    elif(predict[x]== 6):\n",
    "        prediction[x] = 6\n",
    "    elif(predict[x]== 7):\n",
    "        prediction[x] = 7\n",
    "    elif(predict[x]== 8):\n",
    "        prediction[x] = 8\n",
    "        \n",
    "predictioncount = 0\n",
    "for x in range(len(X_test)):\n",
    "    if(prediction[x]==actual[x]):\n",
    "        predictioncount += 1\n",
    "        \n",
    "predictionvalue= predictioncount/sum(indicies)\n",
    "accuracy = (predictionvalue-baseline)/baseline\n",
    "\n",
    "print(\"baseline: \" + str(baseline))\n",
    "print(\"accuracy: \" + str(accuracy))"
   ]
  },
  {
   "cell_type": "code",
   "execution_count": null,
   "metadata": {
    "collapsed": true
   },
   "outputs": [],
   "source": [
    "# split 3"
   ]
  },
  {
   "cell_type": "code",
   "execution_count": 373,
   "metadata": {},
   "outputs": [
    {
     "name": "stdout",
     "output_type": "stream",
     "text": [
      "baseline: 0.4897260273972603\n",
      "accuracy: 0.8251748251748252\n"
     ]
    }
   ],
   "source": [
    "model = svm.SVC(kernel='linear', C=1,gamma=1)\n",
    "\n",
    "X_train, X_test, Y_train, y_test = train_test_split(X, y, test_size=0.2, random_state= 15)\n",
    "model.fit(X_train, Y_train)\n",
    "\n",
    "predict= model.predict(X_test)\n",
    "\n",
    "actual = np.zeros(len(X_test))\n",
    "prediction = np.zeros(len(X_test))\n",
    "\n",
    "one=0\n",
    "two=0\n",
    "three=0\n",
    "four=0\n",
    "five=0\n",
    "six=0\n",
    "seven=0\n",
    "eight=0\n",
    "\n",
    "y_test.index=range(len(X_test))\n",
    "\n",
    "for x in range(len(X_test)):\n",
    "    if(y_test[x]== 1):\n",
    "        actual[x] = 1\n",
    "        one += 1\n",
    "    elif(y_test[x]== 2):\n",
    "        actual[x] = 2\n",
    "        two += 1\n",
    "    elif(y_test[x]== 3):\n",
    "        actual[x] = 3\n",
    "        three += 1\n",
    "    elif(y_test[x]== 4):\n",
    "        actual[x] = 4\n",
    "        four += 1\n",
    "    elif(y_test[x]== 5):\n",
    "        actual[x] = 5\n",
    "        five += 1\n",
    "    elif(y_test[x]== 6):\n",
    "        actual[x] = 6\n",
    "        six += 1\n",
    "    elif(y_test[x]== 7):\n",
    "        actual[x] = 7\n",
    "        seven += 1\n",
    "    elif(y_test[x]== 8):\n",
    "        actual[x] = 8\n",
    "        eight += 1\n",
    "        \n",
    "baseline = 0\n",
    "maximum=one\n",
    "indicies=[one,two,three,four,five,six,seven,eight]\n",
    "for c in range(len(indicies)):\n",
    "    if (indicies[c] >= maximum):\n",
    "        maximum=indicies[c]\n",
    "        \n",
    "baseline=maximum/sum(indicies)\n",
    "        \n",
    "for x in range(len(X_test)):\n",
    "    if(predict[x]== 1):\n",
    "        prediction[x] = 1\n",
    "    elif(predict[x]== 2):\n",
    "        prediction[x] = 2\n",
    "    elif(predict[x]== 3):\n",
    "        prediction[x] = 3\n",
    "    elif(predict[x]== 4):\n",
    "        prediction[x] = 4\n",
    "    elif(predict[x]== 5):\n",
    "        prediction[x] = 5\n",
    "    elif(predict[x]== 6):\n",
    "        prediction[x] = 6\n",
    "    elif(predict[x]== 7):\n",
    "        prediction[x] = 7\n",
    "    elif(predict[x]== 8):\n",
    "        prediction[x] = 8\n",
    "        \n",
    "predictioncount = 0\n",
    "for x in range(len(X_test)):\n",
    "    if(prediction[x]==actual[x]):\n",
    "        predictioncount += 1\n",
    "        \n",
    "predictionvalue= predictioncount/sum(indicies)\n",
    "accuracy = (predictionvalue-baseline)/baseline\n",
    "\n",
    "print(\"baseline: \" + str(baseline))\n",
    "print(\"accuracy: \" + str(accuracy))"
   ]
  },
  {
   "cell_type": "code",
   "execution_count": 374,
   "metadata": {
    "collapsed": true
   },
   "outputs": [],
   "source": [
    "# split 4"
   ]
  },
  {
   "cell_type": "code",
   "execution_count": 377,
   "metadata": {},
   "outputs": [
    {
     "name": "stdout",
     "output_type": "stream",
     "text": [
      "baseline: 0.476027397260274\n",
      "accuracy: 0.7769784172661871\n"
     ]
    }
   ],
   "source": [
    "model = svm.SVC(kernel='linear', C=1,gamma=1)\n",
    "\n",
    "X_train, X_test, Y_train, y_test = train_test_split(X, y, test_size=0.2, random_state= 30)\n",
    "model.fit(X_train, Y_train)\n",
    "\n",
    "predict= model.predict(X_test)\n",
    "\n",
    "actual = np.zeros(len(X_test))\n",
    "prediction = np.zeros(len(X_test))\n",
    "\n",
    "one=0\n",
    "two=0\n",
    "three=0\n",
    "four=0\n",
    "five=0\n",
    "six=0\n",
    "seven=0\n",
    "eight=0\n",
    "\n",
    "y_test.index=range(len(X_test))\n",
    "\n",
    "for x in range(len(X_test)):\n",
    "    if(y_test[x]== 1):\n",
    "        actual[x] = 1\n",
    "        one += 1\n",
    "    elif(y_test[x]== 2):\n",
    "        actual[x] = 2\n",
    "        two += 1\n",
    "    elif(y_test[x]== 3):\n",
    "        actual[x] = 3\n",
    "        three += 1\n",
    "    elif(y_test[x]== 4):\n",
    "        actual[x] = 4\n",
    "        four += 1\n",
    "    elif(y_test[x]== 5):\n",
    "        actual[x] = 5\n",
    "        five += 1\n",
    "    elif(y_test[x]== 6):\n",
    "        actual[x] = 6\n",
    "        six += 1\n",
    "    elif(y_test[x]== 7):\n",
    "        actual[x] = 7\n",
    "        seven += 1\n",
    "    elif(y_test[x]== 8):\n",
    "        actual[x] = 8\n",
    "        eight += 1\n",
    "        \n",
    "baseline = 0\n",
    "maximum=one\n",
    "indicies=[one,two,three,four,five,six,seven,eight]\n",
    "for c in range(len(indicies)):\n",
    "    if (indicies[c] >= maximum):\n",
    "        maximum=indicies[c]\n",
    "        \n",
    "baseline=maximum/sum(indicies)\n",
    "        \n",
    "for x in range(len(X_test)):\n",
    "    if(predict[x]== 1):\n",
    "        prediction[x] = 1\n",
    "    elif(predict[x]== 2):\n",
    "        prediction[x] = 2\n",
    "    elif(predict[x]== 3):\n",
    "        prediction[x] = 3\n",
    "    elif(predict[x]== 4):\n",
    "        prediction[x] = 4\n",
    "    elif(predict[x]== 5):\n",
    "        prediction[x] = 5\n",
    "    elif(predict[x]== 6):\n",
    "        prediction[x] = 6\n",
    "    elif(predict[x]== 7):\n",
    "        prediction[x] = 7\n",
    "    elif(predict[x]== 8):\n",
    "        prediction[x] = 8\n",
    "        \n",
    "predictioncount = 0\n",
    "for x in range(len(X_test)):\n",
    "    if(prediction[x]==actual[x]):\n",
    "        predictioncount += 1\n",
    "        \n",
    "predictionvalue= predictioncount/sum(indicies)\n",
    "accuracy = (predictionvalue-baseline)/baseline\n",
    "\n",
    "print(\"baseline: \" + str(baseline))\n",
    "print(\"accuracy: \" + str(accuracy))"
   ]
  },
  {
   "cell_type": "code",
   "execution_count": 378,
   "metadata": {
    "collapsed": true
   },
   "outputs": [],
   "source": [
    "# split 5"
   ]
  },
  {
   "cell_type": "code",
   "execution_count": 387,
   "metadata": {},
   "outputs": [
    {
     "name": "stdout",
     "output_type": "stream",
     "text": [
      "baseline: 0.4623287671232877\n",
      "accuracy: 0.7555555555555555\n"
     ]
    }
   ],
   "source": [
    "model = svm.SVC(kernel='linear', C=1,gamma=1)\n",
    "\n",
    "X_train, X_test, Y_train, y_test = train_test_split(X, y, test_size=0.2, random_state= 60)\n",
    "model.fit(X_train, Y_train)\n",
    "\n",
    "predict= model.predict(X_test)\n",
    "\n",
    "actual = np.zeros(len(X_test))\n",
    "prediction = np.zeros(len(X_test))\n",
    "\n",
    "one=0\n",
    "two=0\n",
    "three=0\n",
    "four=0\n",
    "five=0\n",
    "six=0\n",
    "seven=0\n",
    "eight=0\n",
    "\n",
    "y_test.index=range(len(X_test))\n",
    "\n",
    "for x in range(len(X_test)):\n",
    "    if(y_test[x]== 1):\n",
    "        actual[x] = 1\n",
    "        one += 1\n",
    "    elif(y_test[x]== 2):\n",
    "        actual[x] = 2\n",
    "        two += 1\n",
    "    elif(y_test[x]== 3):\n",
    "        actual[x] = 3\n",
    "        three += 1\n",
    "    elif(y_test[x]== 4):\n",
    "        actual[x] = 4\n",
    "        four += 1\n",
    "    elif(y_test[x]== 5):\n",
    "        actual[x] = 5\n",
    "        five += 1\n",
    "    elif(y_test[x]== 6):\n",
    "        actual[x] = 6\n",
    "        six += 1\n",
    "    elif(y_test[x]== 7):\n",
    "        actual[x] = 7\n",
    "        seven += 1\n",
    "    elif(y_test[x]== 8):\n",
    "        actual[x] = 8\n",
    "        eight += 1\n",
    "        \n",
    "baseline = 0\n",
    "maximum=one\n",
    "indicies=[one,two,three,four,five,six,seven,eight]\n",
    "for c in range(len(indicies)):\n",
    "    if (indicies[c] >= maximum):\n",
    "        maximum=indicies[c]\n",
    "        \n",
    "baseline=maximum/sum(indicies)\n",
    "        \n",
    "for x in range(len(X_test)):\n",
    "    if(predict[x]== 1):\n",
    "        prediction[x] = 1\n",
    "    elif(predict[x]== 2):\n",
    "        prediction[x] = 2\n",
    "    elif(predict[x]== 3):\n",
    "        prediction[x] = 3\n",
    "    elif(predict[x]== 4):\n",
    "        prediction[x] = 4\n",
    "    elif(predict[x]== 5):\n",
    "        prediction[x] = 5\n",
    "    elif(predict[x]== 6):\n",
    "        prediction[x] = 6\n",
    "    elif(predict[x]== 7):\n",
    "        prediction[x] = 7\n",
    "    elif(predict[x]== 8):\n",
    "        prediction[x] = 8\n",
    "        \n",
    "predictioncount = 0\n",
    "for x in range(len(X_test)):\n",
    "    if(prediction[x]==actual[x]):\n",
    "        predictioncount += 1\n",
    "        \n",
    "predictionvalue= predictioncount/sum(indicies)\n",
    "accuracy = (predictionvalue-baseline)/baseline\n",
    "\n",
    "print(\"baseline: \" + str(baseline))\n",
    "print(\"accuracy: \" + str(accuracy))"
   ]
  },
  {
   "cell_type": "code",
   "execution_count": null,
   "metadata": {},
   "outputs": [],
   "source": [
    "# Decision Trees"
   ]
  },
  {
   "cell_type": "code",
   "execution_count": 18,
   "metadata": {
    "collapsed": true
   },
   "outputs": [],
   "source": [
    "import pandas as pd\n",
    "from sklearn.metrics import accuracy_score\n",
    "from sklearn.model_selection import train_test_split\n",
    "from sklearn.preprocessing import LabelEncoder\n",
    "from sklearn.tree import DecisionTreeClassifier\n",
    "from sklearn.tree import export_graphviz"
   ]
  },
  {
   "cell_type": "code",
   "execution_count": 22,
   "metadata": {
    "collapsed": true
   },
   "outputs": [],
   "source": [
    "# DTdata= data['Neighborhood']\n",
    "m_data = data.dropna()\n",
    "\n",
    "enc = LabelEncoder()\n",
    "for i in m_data.columns:\n",
    "    m_data[i] = enc.fit_transform(m_data[i])\n",
    "   \n",
    "DTdata= m_data['Neighborhood']"
   ]
  },
  {
   "cell_type": "code",
   "execution_count": 68,
   "metadata": {},
   "outputs": [],
   "source": [
    "y = DTdata\n",
    "X = pd.read_csv('df2.csv', usecols=['SalePrice','LotArea'])"
   ]
  },
  {
   "cell_type": "code",
   "execution_count": 69,
   "metadata": {
    "collapsed": true
   },
   "outputs": [],
   "source": [
    "# split 1"
   ]
  },
  {
   "cell_type": "code",
   "execution_count": 75,
   "metadata": {},
   "outputs": [
    {
     "name": "stdout",
     "output_type": "stream",
     "text": [
      "baseline: 0.11149825784\n",
      "accuracy: 1.75\n"
     ]
    }
   ],
   "source": [
    "X_train, X_test, Y_train, Y_test = train_test_split(X, y, test_size=0.2, random_state=8)\n",
    "\n",
    "# build model and fit on train set\n",
    "DT = DecisionTreeClassifier(max_leaf_nodes=15)\n",
    "DT.fit(X_train, Y_train)\n",
    "\n",
    "predict = DT.predict(X_test)\n",
    "\n",
    "actual = np.zeros(len(X_test))\n",
    "prediction = np.zeros(len(X_test))\n",
    "indexcount = np.zeros(24)\n",
    "\n",
    "Y_test.index=range(len(X_test))\n",
    "\n",
    "for x in range(len(X_test)):\n",
    "    for j in range(1,24):\n",
    "        if (Y_test[x]== j):\n",
    "            actual[x]=j\n",
    "            indexcount[j] += 1\n",
    "            break\n",
    "            \n",
    "baseline = 0\n",
    "baseline= max(indexcount)/sum(indexcount)\n",
    "\n",
    "for x in range(len(X_test)):\n",
    "    for j in range(1,24):\n",
    "        if (predict[x]== j):\n",
    "            prediction[x]=j\n",
    "            break\n",
    "            \n",
    "predictioncount = 0\n",
    "\n",
    "for x in range(len(X_test)):\n",
    "    if(prediction[x]==actual[x]):\n",
    "        predictioncount += 1\n",
    "\n",
    "predictionvalue= predictioncount/sum(indexcount)\n",
    "accuracy = (predictionvalue-baseline)/baseline\n",
    "\n",
    "print(\"baseline: \" + str(baseline))\n",
    "print(\"accuracy: \" + str(accuracy))"
   ]
  },
  {
   "cell_type": "code",
   "execution_count": null,
   "metadata": {
    "collapsed": true
   },
   "outputs": [],
   "source": [
    "# split 2"
   ]
  },
  {
   "cell_type": "code",
   "execution_count": 76,
   "metadata": {},
   "outputs": [
    {
     "name": "stdout",
     "output_type": "stream",
     "text": [
      "baseline: 0.118055555556\n",
      "accuracy: 1.55882352941\n"
     ]
    }
   ],
   "source": [
    "X_train, X_test, Y_train, Y_test = train_test_split(X, y, test_size=0.2, random_state=22)\n",
    "\n",
    "# build model and fit on train set\n",
    "DT = DecisionTreeClassifier(max_leaf_nodes=15)\n",
    "DT.fit(X_train, Y_train)\n",
    "\n",
    "predict = DT.predict(X_test)\n",
    "\n",
    "actual = np.zeros(len(X_test))\n",
    "prediction = np.zeros(len(X_test))\n",
    "indexcount = np.zeros(24)\n",
    "\n",
    "Y_test.index=range(len(X_test))\n",
    "\n",
    "for x in range(len(X_test)):\n",
    "    for j in range(1,24):\n",
    "        if (Y_test[x]== j):\n",
    "            actual[x]=j\n",
    "            indexcount[j] += 1\n",
    "            break\n",
    "            \n",
    "baseline = 0\n",
    "baseline= max(indexcount)/sum(indexcount)\n",
    "\n",
    "for x in range(len(X_test)):\n",
    "    for j in range(1,24):\n",
    "        if (predict[x]== j):\n",
    "            prediction[x]=j\n",
    "            break\n",
    "            \n",
    "predictioncount = 0\n",
    "\n",
    "for x in range(len(X_test)):\n",
    "    if(prediction[x]==actual[x]):\n",
    "        predictioncount += 1\n",
    "\n",
    "predictionvalue= predictioncount/sum(indexcount)\n",
    "accuracy = (predictionvalue-baseline)/baseline\n",
    "\n",
    "print(\"baseline: \" + str(baseline))\n",
    "print(\"accuracy: \" + str(accuracy))"
   ]
  },
  {
   "cell_type": "code",
   "execution_count": 77,
   "metadata": {
    "collapsed": true
   },
   "outputs": [],
   "source": [
    "# split 3"
   ]
  },
  {
   "cell_type": "code",
   "execution_count": 78,
   "metadata": {},
   "outputs": [
    {
     "name": "stdout",
     "output_type": "stream",
     "text": [
      "baseline: 0.116607773852\n",
      "accuracy: 1.48484848485\n"
     ]
    }
   ],
   "source": [
    "X_train, X_test, Y_train, Y_test = train_test_split(X, y, test_size=0.2, random_state=56)\n",
    "\n",
    "# build model and fit on train set\n",
    "DT = DecisionTreeClassifier(max_leaf_nodes=15)\n",
    "DT.fit(X_train, Y_train)\n",
    "\n",
    "predict = DT.predict(X_test)\n",
    "\n",
    "actual = np.zeros(len(X_test))\n",
    "prediction = np.zeros(len(X_test))\n",
    "indexcount = np.zeros(24)\n",
    "\n",
    "Y_test.index=range(len(X_test))\n",
    "\n",
    "for x in range(len(X_test)):\n",
    "    for j in range(1,24):\n",
    "        if (Y_test[x]== j):\n",
    "            actual[x]=j\n",
    "            indexcount[j] += 1\n",
    "            break\n",
    "            \n",
    "baseline = 0\n",
    "baseline= max(indexcount)/sum(indexcount)\n",
    "\n",
    "for x in range(len(X_test)):\n",
    "    for j in range(1,24):\n",
    "        if (predict[x]== j):\n",
    "            prediction[x]=j\n",
    "            break\n",
    "            \n",
    "predictioncount = 0\n",
    "\n",
    "for x in range(len(X_test)):\n",
    "    if(prediction[x]==actual[x]):\n",
    "        predictioncount += 1\n",
    "\n",
    "predictionvalue= predictioncount/sum(indexcount)\n",
    "accuracy = (predictionvalue-baseline)/baseline\n",
    "\n",
    "print(\"baseline: \" + str(baseline))\n",
    "print(\"accuracy: \" + str(accuracy))"
   ]
  },
  {
   "cell_type": "code",
   "execution_count": null,
   "metadata": {
    "collapsed": true
   },
   "outputs": [],
   "source": [
    "# split 4"
   ]
  },
  {
   "cell_type": "code",
   "execution_count": 79,
   "metadata": {},
   "outputs": [
    {
     "name": "stdout",
     "output_type": "stream",
     "text": [
      "baseline: 0.129824561404\n",
      "accuracy: 1.40540540541\n"
     ]
    }
   ],
   "source": [
    "X_train, X_test, Y_train, Y_test = train_test_split(X, y, test_size=0.2, random_state=70)\n",
    "\n",
    "# build model and fit on train set\n",
    "DT = DecisionTreeClassifier(max_leaf_nodes=15)\n",
    "DT.fit(X_train, Y_train)\n",
    "\n",
    "predict = DT.predict(X_test)\n",
    "\n",
    "actual = np.zeros(len(X_test))\n",
    "prediction = np.zeros(len(X_test))\n",
    "indexcount = np.zeros(24)\n",
    "\n",
    "Y_test.index=range(len(X_test))\n",
    "\n",
    "for x in range(len(X_test)):\n",
    "    for j in range(1,24):\n",
    "        if (Y_test[x]== j):\n",
    "            actual[x]=j\n",
    "            indexcount[j] += 1\n",
    "            break\n",
    "            \n",
    "baseline = 0\n",
    "baseline= max(indexcount)/sum(indexcount)\n",
    "\n",
    "for x in range(len(X_test)):\n",
    "    for j in range(1,24):\n",
    "        if (predict[x]== j):\n",
    "            prediction[x]=j\n",
    "            break\n",
    "            \n",
    "predictioncount = 0\n",
    "\n",
    "for x in range(len(X_test)):\n",
    "    if(prediction[x]==actual[x]):\n",
    "        predictioncount += 1\n",
    "\n",
    "predictionvalue= predictioncount/sum(indexcount)\n",
    "accuracy = (predictionvalue-baseline)/baseline\n",
    "\n",
    "print(\"baseline: \" + str(baseline))\n",
    "print(\"accuracy: \" + str(accuracy))"
   ]
  },
  {
   "cell_type": "code",
   "execution_count": null,
   "metadata": {
    "collapsed": true
   },
   "outputs": [],
   "source": [
    "# split 5"
   ]
  },
  {
   "cell_type": "code",
   "execution_count": 81,
   "metadata": {},
   "outputs": [
    {
     "name": "stdout",
     "output_type": "stream",
     "text": [
      "baseline: 0.13986013986\n",
      "accuracy: 1.375\n"
     ]
    }
   ],
   "source": [
    "X_train, X_test, Y_train, Y_test = train_test_split(X, y, test_size=0.2, random_state=78)\n",
    "\n",
    "# build model and fit on train set\n",
    "DT = DecisionTreeClassifier(max_leaf_nodes=15)\n",
    "DT.fit(X_train, Y_train)\n",
    "\n",
    "predict = DT.predict(X_test)\n",
    "\n",
    "actual = np.zeros(len(X_test))\n",
    "prediction = np.zeros(len(X_test))\n",
    "indexcount = np.zeros(24)\n",
    "\n",
    "Y_test.index=range(len(X_test))\n",
    "\n",
    "for x in range(len(X_test)):\n",
    "    for j in range(1,24):\n",
    "        if (Y_test[x]== j):\n",
    "            actual[x]=j\n",
    "            indexcount[j] += 1\n",
    "            break\n",
    "            \n",
    "baseline = 0\n",
    "baseline= max(indexcount)/sum(indexcount)\n",
    "\n",
    "for x in range(len(X_test)):\n",
    "    for j in range(1,24):\n",
    "        if (predict[x]== j):\n",
    "            prediction[x]=j\n",
    "            break\n",
    "            \n",
    "predictioncount = 0\n",
    "\n",
    "for x in range(len(X_test)):\n",
    "    if(prediction[x]==actual[x]):\n",
    "        predictioncount += 1\n",
    "\n",
    "predictionvalue= predictioncount/sum(indexcount)\n",
    "accuracy = (predictionvalue-baseline)/baseline\n",
    "\n",
    "print(\"baseline: \" + str(baseline))\n",
    "print(\"accuracy: \" + str(accuracy))"
   ]
  },
  {
   "cell_type": "code",
   "execution_count": null,
   "metadata": {},
   "outputs": [],
   "source": []
  },
  {
   "cell_type": "code",
   "execution_count": null,
   "metadata": {
    "collapsed": true
   },
   "outputs": [],
   "source": []
  }
 ],
 "metadata": {
  "kernelspec": {
   "display_name": "Python 3",
   "language": "python",
   "name": "python3"
  },
  "language_info": {
   "codemirror_mode": {
    "name": "ipython",
    "version": 3
   },
   "file_extension": ".py",
   "mimetype": "text/x-python",
   "name": "python",
   "nbconvert_exporter": "python",
   "pygments_lexer": "ipython3",
   "version": "3.6.1"
  }
 },
 "nbformat": 4,
 "nbformat_minor": 2
}
